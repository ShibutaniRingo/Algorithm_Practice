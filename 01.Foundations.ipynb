{
 "cells": [
  {
   "cell_type": "markdown",
   "metadata": {},
   "source": [
    "<h1>Introduction to Algorithm</h1>\n",
    "<h2>I.    Foundations</h2>\n",
    "<h3>1. The Role of Algorithms in Computing</h3>\n",
    "<p>An algorithm is a sequence of computational steps that transform the input into the output."
   ]
  },
  {
   "cell_type": "markdown",
   "metadata": {},
   "source": [
    "<h3>2. Data Structure</h3>\n",
    "<p>A way to store and organize data in order to facilitate access and modifications."
   ]
  },
  {
   "cell_type": "markdown",
   "metadata": {},
   "source": [
    "<h3>3. Efficiency and Speed</h3>\n",
    "<a href=https://zh.wikipedia.org/wiki/P/NP问题>NP-complete problem</a>\n",
    "<p>It has no known efficient algorithm. Under certain assumptions, however, we know of efficient algorithms that give an overall distance which is not too far above the smallest possible."
   ]
  },
  {
   "cell_type": "markdown",
   "metadata": {},
   "source": [
    "<h3>4. Parallelism</h3>\n",
    "<a href=https://en.wikipedia.org/wiki/Multithreading_(computer_architecture)>Multithread Algorithm</a>\n",
    "<p> In order to elicit the best performance from multicore computers, we need to design algorithms with parallelism in mind."
   ]
  },
  {
   "cell_type": "markdown",
   "metadata": {},
   "source": [
    "<h3>Exercise</h3>\n",
    "<ol>\n",
    "    <li> Give a real-world example that requires sorting or a real-world example that requires computing a convex hull.\n",
    "        <p><a href=https://en.wikipedia.org/wiki/Convex_hull>What's Convex Hull</a></p>\n",
    "        <p> Department's highest salary / Biggest island</p>\n",
    "    <li>Other than speed, what other measures of efficiency might one use in a real-world setting?\n",
    "        <p> Space (data storage).</p>\n",
    "    <li> Select a data structure that you have seen previously, and discuss its strengths and limitations.\n",
    "        <p> List: mutable, but can have indexing error when being modified.</p>\n",
    "    <li> How are the shortest-path and traveling-salesman problems given above similar? How are they different?\n",
    "        <p> Transpotation cost on distance(weight).</p>\n",
    "    <li> Come up with a real-world problem in which only the best solution will do. Then come up with one in which a solution that is “approximately” the best is good enough.\n",
    "        <p>Without counting the number of coins: total weight/the weight of one coin</p>\n",
    "</ol>"
   ]
  },
  {
   "cell_type": "markdown",
   "metadata": {},
   "source": [
    "<h3>Algorithms That Are Efficient</h3>\n",
    "<p>You would most often use whichever method was the <strong>easiest to implement</strong>.\n",
    "<p><strong>Computing time</strong> is therefore a bounded resource, and so is <strong>space in memory</strong>. "
   ]
  },
  {
   "cell_type": "markdown",
   "metadata": {},
   "source": [
    "Computational complexity:ln(n), root(n), n, nln(n), n^2, n^3, 2^n, n!"
   ]
  },
  {
   "cell_type": "markdown",
   "metadata": {},
   "source": [
    "<h3>Exercise</h3>\n",
    "<ol>\n",
    "    <li>Give an example of an application that requires algorithmic content at the applica- tion level, and discuss the function of the algorithms involved.\n",
    "    <p>Search engine requires algorithmic optimization of natural language processing (NLP) to determine the probability that someone will type give an example of an application that requires algorithmic content at the application level and display solution manuals for CLRS's Introduction to Algorithms since that's what most people would search for when they type that phrase in.</p>\n",
    "    <p>Google maps directions require specific constraints and assumptions based on traffic flow, main traffic arteries, any alerts/accidents/delays, etc. to determine the path of least but efficient distance between two points.</p>\n",
    "    <li>Suppose we are comparing implementations of insertion sort and merge sort on the same machine. For inputs of size n, insertion sort runs in 8n^2 steps, while merge sort runs in 64nlg(n) steps. For which values of n does insertion sort beat merge sort?\n",
    "    <p>8n^2<=64nlg(n), n<=8lg(n), n<=26</p>\n",
    "    <li>What is the smallest value of n such that an algorithm whose running time is 100n^2 runs faster than an algorithm whose running time is 2^n on the same machine?\n",
    "    <p>ln(100)+2ln(n) <= nln(2), n>=15</p>\n",
    "</ol>"
   ]
  }
 ],
 "metadata": {
  "kernelspec": {
   "display_name": "Python 3",
   "language": "python",
   "name": "python3"
  },
  "language_info": {
   "codemirror_mode": {
    "name": "ipython",
    "version": 3
   },
   "file_extension": ".py",
   "mimetype": "text/x-python",
   "name": "python",
   "nbconvert_exporter": "python",
   "pygments_lexer": "ipython3",
   "version": "3.6.8"
  }
 },
 "nbformat": 4,
 "nbformat_minor": 2
}
