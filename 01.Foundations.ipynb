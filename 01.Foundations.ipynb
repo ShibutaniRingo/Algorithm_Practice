{
 "cells": [
  {
   "cell_type": "markdown",
   "metadata": {},
   "source": [
    "<h1>Introduction to Algorithm</h1>\n",
    "<h2>I.    Foundations</h2>\n",
    "<h3>1. The Role of Algorithms in Computing</h3>\n",
    "<p>An algorithm is a sequence of computational steps that transform the input into the output."
   ]
  },
  {
   "cell_type": "markdown",
   "metadata": {},
   "source": [
    "<h3>2. Data Structure</h3>\n",
    "<p>A way to store and organize data in order to facilitate access and modifications."
   ]
  },
  {
   "cell_type": "markdown",
   "metadata": {},
   "source": [
    "<h3>3. Efficiency and Speed</h3>\n",
    "<a href=https://zh.wikipedia.org/wiki/P/NP问题>NP-complete problem</a>\n",
    "<p>It has no known efficient algorithm. Under certain assumptions, however, we know of efficient algorithms that give an overall distance which is not too far above the smallest possible."
   ]
  },
  {
   "cell_type": "markdown",
   "metadata": {},
   "source": [
    "<h3>4. Parallelism</h3>\n",
    "<a href=https://en.wikipedia.org/wiki/Multithreading_(computer_architecture)>Multithread Algorithm</a>\n",
    "<p> In order to elicit the best performance from multicore computers, we need to design algorithms with parallelism in mind."
   ]
  },
  {
   "cell_type": "markdown",
   "metadata": {},
   "source": [
    "<h3>Exercise</h3>\n",
    "<ol>\n",
    "<li> Give a real-world example that requires sorting or a real-world example that requires computing a convex hull.\n",
    "    <p><a href=https://en.wikipedia.org/wiki/Convex_hull>What's Convex Hull</a>\n",
    "    <p> Department's highest salary / Biggest island\n",
    "<li>Other than speed, what other measures of efficiency might one use in a real-world setting?\n",
    "    <p> Space (data storage).\n",
    "<li> Select a data structure that you have seen previously, and discuss its strengths and limitations.\n",
    "    <p> List: mutable, but can have indexing error when being modified.\n",
    "<li> How are the shortest-path and traveling-salesman problems given above similar? How are they different?\n",
    "    <p> Transpotation cost on distance(weight).\n",
    "<li> Come up with a real-world problem in which only the best solution will do. Then come up with one in which a solution that is “approximately” the best is good enough.\n",
    "</ol>"
   ]
  }
 ],
 "metadata": {
  "kernelspec": {
   "display_name": "Python 3",
   "language": "python",
   "name": "python3"
  },
  "language_info": {
   "codemirror_mode": {
    "name": "ipython",
    "version": 3
   },
   "file_extension": ".py",
   "mimetype": "text/x-python",
   "name": "python",
   "nbconvert_exporter": "python",
   "pygments_lexer": "ipython3",
   "version": "3.6.8"
  }
 },
 "nbformat": 4,
 "nbformat_minor": 2
}
